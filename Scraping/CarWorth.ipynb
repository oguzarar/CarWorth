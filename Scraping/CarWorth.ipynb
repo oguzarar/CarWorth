{
 "cells": [
  {
   "cell_type": "code",
   "id": "initial_id",
   "metadata": {
    "collapsed": true,
    "ExecuteTime": {
     "end_time": "2025-08-23T19:51:56.933293Z",
     "start_time": "2025-08-23T19:51:55.522745Z"
    }
   },
   "source": [
    "import pandas as pd\n",
    "import numpy as np\n",
    "import requests\n",
    "from bs4 import BeautifulSoup\n",
    "import random\n",
    "import re"
   ],
   "outputs": [],
   "execution_count": 1
  },
  {
   "metadata": {
    "ExecuteTime": {
     "end_time": "2025-08-23T19:52:08.791637Z",
     "start_time": "2025-08-23T19:52:08.352741Z"
    }
   },
   "cell_type": "code",
   "source": "cd=pd.read_csv(\"cars.csv\")",
   "id": "61adb2ba8c9578ac",
   "outputs": [],
   "execution_count": 2
  },
  {
   "metadata": {},
   "cell_type": "markdown",
   "source": "Okuma",
   "id": "c4a9d49ca9a4f0c2"
  },
  {
   "metadata": {
    "ExecuteTime": {
     "end_time": "2025-08-21T12:19:19.095679Z",
     "start_time": "2025-08-21T12:19:19.085902Z"
    }
   },
   "cell_type": "code",
   "source": "cd.to_csv(\"cars.csv\",index=False)",
   "id": "dacfe41cefe9a12c",
   "outputs": [],
   "execution_count": 5
  },
  {
   "metadata": {},
   "cell_type": "markdown",
   "source": "Yazma",
   "id": "55e6544492974a4a"
  },
  {
   "metadata": {
    "ExecuteTime": {
     "end_time": "2025-08-21T12:20:48.722111Z",
     "start_time": "2025-08-21T12:20:48.715671Z"
    }
   },
   "cell_type": "code",
   "outputs": [],
   "execution_count": 9,
   "source": [
    "iller = [\n",
    "    \"adana\", \"adiyaman\", \"afyonkarahisar\", \"agri\", \"amasya\", \"ankara\", \"antalya\", \"artvin\",\n",
    "    \"aydin\", \"balikesir\", \"bilecik\", \"bingol\", \"bitlis\", \"bolu\", \"burdur\", \"bursa\",\n",
    "    \"canakkale\", \"cankiri\", \"corum\", \"denizli\", \"diyarbakir\", \"edirne\", \"elazig\", \"erzincan\",\n",
    "    \"erzurum\", \"eskisehir\", \"gaziantep\", \"giresun\", \"gumushane\", \"hakkari\", \"hatay\", \"isparta\",\n",
    "    \"mersin\", \"istanbul\", \"izmir\", \"kars\", \"kastamonu\", \"kayseri\", \"kirklareli\", \"kirsehir\",\n",
    "    \"kocaeli\", \"konya\", \"kutahya\", \"malatya\", \"manisa\", \"kahramanmaras\", \"mardin\", \"mugla\",\n",
    "    \"mus\", \"nevsehir\", \"nigde\", \"ordu\", \"rize\", \"sakarya\", \"samsun\", \"siirt\",\n",
    "    \"sinop\", \"sivas\", \"tekirdag\", \"tokat\", \"trabzon\", \"tunceli\", \"sanliurfa\", \"usak\",\n",
    "    \"van\", \"yozgat\", \"zonguldak\", \"aksaray\", \"bayburt\", \"karaman\", \"kirikkale\", \"batman\",\n",
    "    \"sirnak\", \"bartin\", \"ardahan\", \"igdir\", \"yalova\", \"karabuk\", \"kilis\", \"osmaniye\", \"duzce\"\n",
    "]"
   ],
   "id": "48750d8551bf69cf"
  },
  {
   "metadata": {
    "ExecuteTime": {
     "end_time": "2025-08-21T12:20:50.714457Z",
     "start_time": "2025-08-21T12:20:50.707653Z"
    }
   },
   "cell_type": "code",
   "source": [
    "def post_url(url):\n",
    "    user_agents = [\n",
    "        \"Mozilla/5.0 (Windows NT 10.0; Win64; x64)...\",\n",
    "        \"Mozilla/5.0 (Macintosh; Intel Mac OS X 10_15_7)...\",\n",
    "    ]\n",
    "    headers = {\n",
    "        \"User-Agent\": random.choice(user_agents),\n",
    "        \"Accept-Language\": \"en-US,en;q=0.9\",\n",
    "        \"Accept\": \"text/html,application/xhtml+xml,application/xml;q=0.9\",\n",
    "        \"Referer\": \"https://www.google.com/\",\n",
    "        \"Connection\": \"keep-alive\"\n",
    "    }\n",
    "    session = requests.Session()\n",
    "    response = session.get(url, headers=headers)\n",
    "    soup=BeautifulSoup(response.content,\"html.parser\")\n",
    "    return soup\n",
    "def url(sehir,page):\n",
    "    return f\"https://www.arabam.com/ikinci-el/otomobil-{sehir}?view=List&page={page}\""
   ],
   "id": "3782d4827af41356",
   "outputs": [],
   "execution_count": 10
  },
  {
   "metadata": {
    "ExecuteTime": {
     "end_time": "2025-08-21T18:32:58.878197Z",
     "start_time": "2025-08-21T12:20:55.322063Z"
    }
   },
   "cell_type": "code",
   "source": [
    "for city in iller:\n",
    "    fiyat2 = \"\"\n",
    "    for page in range(1, 51):\n",
    "        try:\n",
    "            sehir = post_url(url(city, page))\n",
    "            table = sehir.find(\"table\", \"table listing-table w100\")\n",
    "            links = table.find_all(\"tr\", \"listing-list-item should-hover bg-white\")\n",
    "            for link_item in links:\n",
    "                link = link_item.find(\"a\", \"link-overlay\")\n",
    "                link2 = \"https://www.arabam.com/\" + link.get(\"href\")\n",
    "                detay = {}\n",
    "                son = post_url(link2)\n",
    "                baslik1 = son.find(\"div\", \"product-name-container\")\n",
    "                \n",
    "                konum1 = son.find(\"span\", \"product-location\")\n",
    "                \n",
    "                fiyat1 = son.find(\"div\", \"desktop-information-price\")\n",
    "                \n",
    "                details = son.find(\"div\", \"product-properties-details linear-gradient\")\n",
    "                all_details = details.find_all(\"div\", \"property-item\")\n",
    "                \n",
    "                try:\n",
    "                    baslik = baslik1.text.strip()\n",
    "                    konum = konum1.text.strip()\n",
    "                    fiyat = fiyat1.text.strip()\n",
    "                except:\n",
    "                    pass\n",
    "                \n",
    "                detay = {\n",
    "                    \"İlan Tarihi\": None,\n",
    "                    \"Marka\": None,\n",
    "                    \"Seri\": None,\n",
    "                    \"Model\": None,\n",
    "                    \"Yıl\": None,\n",
    "                    \"Kilometre\": None,\n",
    "                    \"Vites Tipi\": None,\n",
    "                    \"Yakıt Tipi\": None,\n",
    "                    \"Kasa Tipi\": None,\n",
    "                    \"Renk\": None,\n",
    "                    \"Motor Hacmi\": None,\n",
    "                    \"Motor Gücü\": None,\n",
    "                    \"Çekiş\": None,\n",
    "                    \"Araç Durumu\": None,\n",
    "                    \"Ort. Yakıt Tüketimi\": None,\n",
    "                    \"Yakıt Deposu\": None,\n",
    "                    \"Boya-değişen\": None,\n",
    "                    \"Takasa Uygun\": None,\n",
    "                    \"Kimden\": None\n",
    "                }\n",
    "                \n",
    "                key = \"\"\n",
    "                value = \"\"\n",
    "                for detail_item in all_details[1:]:\n",
    "                    key_div = detail_item.find(\"div\", \"property-key\")\n",
    "                    value_div = detail_item.find(\"div\", \"property-value\")\n",
    "                    try:\n",
    "                        key = key_div.text.strip() if key_div else None\n",
    "                        value = value_div.text.strip() if value_div else None\n",
    "                    except:\n",
    "                        pass\n",
    "                \n",
    "                    if key:\n",
    "                        detay[key] = value\n",
    "        \n",
    "                aciklama = son.find(\"div\", \"tab-content-wrapper tab-description\")\n",
    "                pattern = r'(tramer(?:\\skaydı)?|hasar(?:\\skaydı)?)\\s*[:\\-]?\\s*([\\d.,]+)'\n",
    "                matches = re.findall(pattern, aciklama.text, re.IGNORECASE | re.DOTALL)\n",
    "                \n",
    "                for label, fiyat_str in matches:\n",
    "                    try:\n",
    "                        fiyat2 = int(fiyat_str.replace('.', '').replace(',', ''))\n",
    "                    except:\n",
    "                        pass\n",
    "                \n",
    "                yeni_satir = pd.DataFrame([{\n",
    "                    \"baslik\": baslik,\n",
    "                    \"konum\": konum,\n",
    "                    \"fiyat\": fiyat,\n",
    "                    \"ilan_tarihi\": detay[\"İlan Tarihi\"],\n",
    "                    \"marka\": detay[\"Marka\"],\n",
    "                    \"seri\": detay[\"Seri\"],\n",
    "                    \"model\": detay[\"Model\"],\n",
    "                    \"yil\": detay[\"Yıl\"],\n",
    "                    \"kilometre\": detay[\"Kilometre\"],\n",
    "                    \"vites_tipi\": detay[\"Vites Tipi\"],\n",
    "                    \"yakit_tipi\": detay[\"Yakıt Tipi\"],\n",
    "                    \"kasa_tipi\": detay[\"Kasa Tipi\"],\n",
    "                    \"renk\": detay[\"Renk\"],\n",
    "                    \"motor_hacmi\": detay[\"Motor Hacmi\"],\n",
    "                    \"motor_gucu\": detay[\"Motor Gücü\"],\n",
    "                    \"cekis\": detay[\"Çekiş\"],\n",
    "                    \"arac_durumu\": detay[\"Araç Durumu\"],\n",
    "                    \"ortalama_yakit_tuketimi\": detay[\"Ort. Yakıt Tüketimi\"],\n",
    "                    \"yakit_deposu\": detay[\"Yakıt Deposu\"],\n",
    "                    \"boya_degisen\": detay[\"Boya-değişen\"],\n",
    "                    \"takasa_uygun\": detay[\"Takasa Uygun\"],\n",
    "                    \"kimden\": detay[\"Kimden\"],\n",
    "                    \"tramer\": fiyat2\n",
    "                }])\n",
    "                yeni_satir.to_csv(\"cars.csv\", mode='a', header=False, index=False)\n",
    "                detay = {}\n",
    "                fiyat2 = \"\"\n",
    "        except:\n",
    "            pass"
   ],
   "id": "f58edcdf5a881919",
   "outputs": [],
   "execution_count": 11
  }
 ],
 "metadata": {
  "kernelspec": {
   "display_name": "Python 3",
   "language": "python",
   "name": "python3"
  },
  "language_info": {
   "codemirror_mode": {
    "name": "ipython",
    "version": 2
   },
   "file_extension": ".py",
   "mimetype": "text/x-python",
   "name": "python",
   "nbconvert_exporter": "python",
   "pygments_lexer": "ipython2",
   "version": "2.7.6"
  }
 },
 "nbformat": 4,
 "nbformat_minor": 5
}
