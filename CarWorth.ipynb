{
 "cells": [
  {
   "cell_type": "code",
   "id": "initial_id",
   "metadata": {
    "collapsed": true,
    "ExecuteTime": {
     "end_time": "2025-08-09T19:44:01.854720Z",
     "start_time": "2025-08-09T19:44:00.892881Z"
    }
   },
   "source": [
    "import pandas as pd\n",
    "import numpy as np\n",
    "import requests\n",
    "from bs4 import BeautifulSoup\n",
    "import random\n",
    "import re"
   ],
   "outputs": [],
   "execution_count": 1
  },
  {
   "metadata": {
    "ExecuteTime": {
     "end_time": "2025-08-09T19:44:06.166191Z",
     "start_time": "2025-08-09T19:44:06.156080Z"
    }
   },
   "cell_type": "code",
   "source": "cd=pd.read_csv(\"cars.csv\")",
   "id": "dd50c9e6433c0795",
   "outputs": [],
   "execution_count": 2
  },
  {
   "metadata": {},
   "cell_type": "markdown",
   "source": "Okuma",
   "id": "c4a9d49ca9a4f0c2"
  },
  {
   "metadata": {
    "ExecuteTime": {
     "end_time": "2025-08-08T08:11:00.797604Z",
     "start_time": "2025-08-08T08:11:00.657125Z"
    }
   },
   "cell_type": "code",
   "source": "cd.to_csv(\"cars_en.csv\")",
   "id": "dacfe41cefe9a12c",
   "outputs": [],
   "execution_count": 3
  },
  {
   "metadata": {},
   "cell_type": "markdown",
   "source": "Yazma",
   "id": "55e6544492974a4a"
  },
  {
   "metadata": {
    "ExecuteTime": {
     "end_time": "2025-08-09T19:44:58.620263Z",
     "start_time": "2025-08-09T19:44:58.613478Z"
    }
   },
   "cell_type": "code",
   "source": [
    "iller = [\n",
    "    \"adana\", \"adiyaman\", \"afyonkarahisar\", \"agri\", \"amasya\", \"ankara\", \"antalya\", \"artvin\",\n",
    "    \"aydin\", \"balikesir\", \"bilecik\", \"bingol\", \"bitlis\", \"bolu\", \"burdur\", \"bursa\",\n",
    "    \"canakkale\", \"cankiri\", \"corum\", \"denizli\", \"diyarbakir\", \"edirne\", \"elazig\", \"erzincan\",\n",
    "    \"erzurum\", \"eskisehir\", \"gaziantep\", \"giresun\", \"gumushane\", \"hakkari\", \"hatay\", \"isparta\",\n",
    "    \"mersin\", \"istanbul\", \"izmir\", \"kars\", \"kastamonu\", \"kayseri\", \"kirklareli\", \"kirsehir\",\n",
    "    \"kocaeli\", \"konya\", \"kutahya\", \"malatya\", \"manisa\", \"kahramanmaras\", \"mardin\", \"mugla\",\n",
    "    \"mus\", \"nevsehir\", \"nigde\", \"ordu\", \"rize\", \"sakarya\", \"samsun\", \"siirt\",\n",
    "    \"sinop\", \"sivas\", \"tekirdag\", \"tokat\", \"trabzon\", \"tunceli\", \"sanliurfa\", \"usak\",\n",
    "    \"van\", \"yozgat\", \"zonguldak\", \"aksaray\", \"bayburt\", \"karaman\", \"kirikkale\", \"batman\",\n",
    "    \"sirnak\", \"bartin\", \"ardahan\", \"igdir\", \"yalova\", \"karabuk\", \"kilis\", \"osmaniye\", \"duzce\"\n",
    "]"
   ],
   "id": "48750d8551bf69cf",
   "outputs": [],
   "execution_count": 4
  },
  {
   "metadata": {
    "ExecuteTime": {
     "end_time": "2025-08-09T19:45:33.008507Z",
     "start_time": "2025-08-09T19:45:32.998685Z"
    }
   },
   "cell_type": "code",
   "source": [
    "def post_url(url):\n",
    "    user_agents = [\n",
    "        \"Mozilla/5.0 (Windows NT 10.0; Win64; x64)...\",\n",
    "        \"Mozilla/5.0 (Macintosh; Intel Mac OS X 10_15_7)...\",\n",
    "    ]\n",
    "    headers = {\n",
    "        \"User-Agent\": random.choice(user_agents),\n",
    "        \"Accept-Language\": \"en-US,en;q=0.9\",\n",
    "        \"Accept\": \"text/html,application/xhtml+xml,application/xml;q=0.9\",\n",
    "        \"Referer\": \"https://www.google.com/\",\n",
    "        \"Connection\": \"keep-alive\"\n",
    "    }\n",
    "    session = requests.Session()\n",
    "    response = session.get(url, headers=headers)\n",
    "    soup=BeautifulSoup(response.content,\"html.parser\")\n",
    "    return soup\n",
    "def url(sehir,page):\n",
    "    return f\"https://www.arabam.com/ikinci-el/otomobil-{sehir}?view=List&page={page}\""
   ],
   "id": "3782d4827af41356",
   "outputs": [],
   "execution_count": 7
  },
  {
   "metadata": {
    "ExecuteTime": {
     "end_time": "2025-08-09T20:21:33.483723Z",
     "start_time": "2025-08-09T20:21:32.362061Z"
    }
   },
   "cell_type": "code",
   "source": [
    "fiyat2=\"\"\n",
    "for i in range(1,35):\n",
    "    sehir=post_url(url(\"corum\",i))\n",
    "    for a in sehir:\n",
    "        table=sehir.find(\"table\",\"table listing-table w100\")\n",
    "        links=table.find_all(\"tr\",\"listing-list-item should-hover bg-white\")\n",
    "        for a in links:\n",
    "            link=a.find(\"a\",\"link-overlay\")\n",
    "            link2=\"https://www.arabam.com/\"+link.get(\"href\")\n",
    "            detay=[]\n",
    "            son=post_url(link2)\n",
    "            baslik1=son.find(\"div\",\"product-name-container\")\n",
    "            baslik=baslik1.text.strip()\n",
    "            konum1=son.find(\"span\",\"product-location\")\n",
    "            konum=konum1.text.strip()\n",
    "            fiyat1=son.find(\"div\",\"desktop-information-price\")\n",
    "            fiyat=fiyat1.text.strip()\n",
    "            details=son.find(\"div\",\"product-properties-details linear-gradient\")\n",
    "            all_details=details.find_all(\"div\",\"property-item\")\n",
    "            \n",
    "            for b in all_details[1:]:\n",
    "                ilan_tarih=b.find(\"div\",\"property-value\")\n",
    "                detay.append(ilan_tarih.text.strip() if ilan_tarih else \"\")\n",
    "          \n",
    "            aciklama=son.find(\"div\",\"tab-content-wrapper tab-description\")\n",
    "    \n",
    "            pattern = r'(tramer(?:\\skaydı)?|hasar(?:\\skaydı)?)\\s*[:\\-]?\\s*([\\d.,]+)'\n",
    "    \n",
    "            matches = re.findall(pattern, aciklama.text, re.IGNORECASE | re.DOTALL)\n",
    "    \n",
    "            for label, fiyat_str in matches:\n",
    "                fiyat2 = int(fiyat_str.replace('.', '').replace(',', ''))\n",
    "            yeni_satir = pd.DataFrame([{\n",
    "            \"baslik\": baslik,\n",
    "            \"konum\":konum,\n",
    "            \"fiyat\": fiyat,\n",
    "            \"ilan_tarihi\": detay[0],\n",
    "            \"marka\": detay[1],\n",
    "            \"seri\": detay[2],\n",
    "            \"model\": detay[3],\n",
    "            \"yil\": detay[4],\n",
    "            \"kilometre\": detay[5],\n",
    "            \"vites_tipi\": detay[6],\n",
    "            \"yakit_tipi\": detay[7],\n",
    "            \"kasa_tipi\": detay[8],\n",
    "            \"renk\": detay[9],\n",
    "            \"motor_hacmi\": detay[10],\n",
    "            \"motor_gucu\": detay[11],\n",
    "            \"cekis\": detay[12],\n",
    "            \"arac_durumu\": detay[13],\n",
    "            \"ortalama_yakit_tuketimi\": detay[14],\n",
    "            \"yakit_deposu\": detay[15],\n",
    "            \"boya_degisen\": detay[16],\n",
    "            \"takasa_uygun\": detay[17],\n",
    "            \"kimden\": detay[18],\n",
    "            \"tramer\": fiyat2\n",
    "            }]) \n",
    "            yeni_satir.to_csv(\"cars.csv\", mode='a', header=False, index=False)\n",
    "            \n",
    "                \n",
    "        \n"
   ],
   "id": "83a0c18b6e4a8ca5",
   "outputs": [
    {
     "ename": "IndexError",
     "evalue": "list index out of range",
     "output_type": "error",
     "traceback": [
      "\u001B[31m---------------------------------------------------------------------------\u001B[39m",
      "\u001B[31mIndexError\u001B[39m                                Traceback (most recent call last)",
      "\u001B[36mCell\u001B[39m\u001B[36m \u001B[39m\u001B[32mIn[14]\u001B[39m\u001B[32m, line 54\u001B[39m\n\u001B[32m     31\u001B[39m \u001B[38;5;28;01mfor\u001B[39;00m label, fiyat_str \u001B[38;5;129;01min\u001B[39;00m matches:\n\u001B[32m     32\u001B[39m     fiyat2 = \u001B[38;5;28mint\u001B[39m(fiyat_str.replace(\u001B[33m'\u001B[39m\u001B[33m.\u001B[39m\u001B[33m'\u001B[39m, \u001B[33m'\u001B[39m\u001B[33m'\u001B[39m).replace(\u001B[33m'\u001B[39m\u001B[33m,\u001B[39m\u001B[33m'\u001B[39m, \u001B[33m'\u001B[39m\u001B[33m'\u001B[39m))\n\u001B[32m     33\u001B[39m yeni_satir = pd.DataFrame([{\n\u001B[32m     34\u001B[39m \u001B[33m\"\u001B[39m\u001B[33mbaslik\u001B[39m\u001B[33m\"\u001B[39m: baslik,\n\u001B[32m     35\u001B[39m \u001B[33m\"\u001B[39m\u001B[33mkonum\u001B[39m\u001B[33m\"\u001B[39m:konum,\n\u001B[32m     36\u001B[39m \u001B[33m\"\u001B[39m\u001B[33mfiyat\u001B[39m\u001B[33m\"\u001B[39m: fiyat,\n\u001B[32m     37\u001B[39m \u001B[33m\"\u001B[39m\u001B[33milan_tarihi\u001B[39m\u001B[33m\"\u001B[39m: detay[\u001B[32m0\u001B[39m],\n\u001B[32m     38\u001B[39m \u001B[33m\"\u001B[39m\u001B[33mmarka\u001B[39m\u001B[33m\"\u001B[39m: detay[\u001B[32m1\u001B[39m],\n\u001B[32m     39\u001B[39m \u001B[33m\"\u001B[39m\u001B[33mseri\u001B[39m\u001B[33m\"\u001B[39m: detay[\u001B[32m2\u001B[39m],\n\u001B[32m     40\u001B[39m \u001B[33m\"\u001B[39m\u001B[33mmodel\u001B[39m\u001B[33m\"\u001B[39m: detay[\u001B[32m3\u001B[39m],\n\u001B[32m     41\u001B[39m \u001B[33m\"\u001B[39m\u001B[33myil\u001B[39m\u001B[33m\"\u001B[39m: detay[\u001B[32m4\u001B[39m],\n\u001B[32m     42\u001B[39m \u001B[33m\"\u001B[39m\u001B[33mkilometre\u001B[39m\u001B[33m\"\u001B[39m: detay[\u001B[32m5\u001B[39m],\n\u001B[32m     43\u001B[39m \u001B[33m\"\u001B[39m\u001B[33mvites_tipi\u001B[39m\u001B[33m\"\u001B[39m: detay[\u001B[32m6\u001B[39m],\n\u001B[32m     44\u001B[39m \u001B[33m\"\u001B[39m\u001B[33myakit_tipi\u001B[39m\u001B[33m\"\u001B[39m: detay[\u001B[32m7\u001B[39m],\n\u001B[32m     45\u001B[39m \u001B[33m\"\u001B[39m\u001B[33mkasa_tipi\u001B[39m\u001B[33m\"\u001B[39m: detay[\u001B[32m8\u001B[39m],\n\u001B[32m     46\u001B[39m \u001B[33m\"\u001B[39m\u001B[33mrenk\u001B[39m\u001B[33m\"\u001B[39m: detay[\u001B[32m9\u001B[39m],\n\u001B[32m     47\u001B[39m \u001B[33m\"\u001B[39m\u001B[33mmotor_hacmi\u001B[39m\u001B[33m\"\u001B[39m: detay[\u001B[32m10\u001B[39m],\n\u001B[32m     48\u001B[39m \u001B[33m\"\u001B[39m\u001B[33mmotor_gucu\u001B[39m\u001B[33m\"\u001B[39m: detay[\u001B[32m11\u001B[39m],\n\u001B[32m     49\u001B[39m \u001B[33m\"\u001B[39m\u001B[33mcekis\u001B[39m\u001B[33m\"\u001B[39m: detay[\u001B[32m12\u001B[39m],\n\u001B[32m     50\u001B[39m \u001B[33m\"\u001B[39m\u001B[33marac_durumu\u001B[39m\u001B[33m\"\u001B[39m: detay[\u001B[32m13\u001B[39m],\n\u001B[32m     51\u001B[39m \u001B[33m\"\u001B[39m\u001B[33mortalama_yakit_tuketimi\u001B[39m\u001B[33m\"\u001B[39m: detay[\u001B[32m14\u001B[39m],\n\u001B[32m     52\u001B[39m \u001B[33m\"\u001B[39m\u001B[33myakit_deposu\u001B[39m\u001B[33m\"\u001B[39m: detay[\u001B[32m15\u001B[39m],\n\u001B[32m     53\u001B[39m \u001B[33m\"\u001B[39m\u001B[33mboya_degisen\u001B[39m\u001B[33m\"\u001B[39m: detay[\u001B[32m16\u001B[39m],\n\u001B[32m---> \u001B[39m\u001B[32m54\u001B[39m \u001B[33m\"\u001B[39m\u001B[33mtakasa_uygun\u001B[39m\u001B[33m\"\u001B[39m: \u001B[43mdetay\u001B[49m\u001B[43m[\u001B[49m\u001B[32;43m17\u001B[39;49m\u001B[43m]\u001B[49m,\n\u001B[32m     55\u001B[39m \u001B[33m\"\u001B[39m\u001B[33mkimden\u001B[39m\u001B[33m\"\u001B[39m: detay[\u001B[32m18\u001B[39m],\n\u001B[32m     56\u001B[39m \u001B[33m\"\u001B[39m\u001B[33mtramer\u001B[39m\u001B[33m\"\u001B[39m: fiyat2\n\u001B[32m     57\u001B[39m }]) \n\u001B[32m     58\u001B[39m yeni_satir.to_csv(\u001B[33m\"\u001B[39m\u001B[33mcars.csv\u001B[39m\u001B[33m\"\u001B[39m, mode=\u001B[33m'\u001B[39m\u001B[33ma\u001B[39m\u001B[33m'\u001B[39m, header=\u001B[38;5;28;01mFalse\u001B[39;00m, index=\u001B[38;5;28;01mFalse\u001B[39;00m)\n",
      "\u001B[31mIndexError\u001B[39m: list index out of range"
     ]
    }
   ],
   "execution_count": 14
  },
  {
   "metadata": {
    "ExecuteTime": {
     "end_time": "2025-08-09T19:47:32.105562Z",
     "start_time": "2025-08-09T19:47:32.088492Z"
    }
   },
   "cell_type": "code",
   "outputs": [
    {
     "data": {
      "text/plain": [
       "Empty DataFrame\n",
       "Columns: [baslik, konum, fiyat, ilan_tarihi, marka, seri, model, yil, kilometre, vites_tipi, yakit_tipi, kasa_tipi, renk, motor_hacmi, motor_gucu, cekis, arac_durumu, ortalama_yakit_tuketimi, yakit_deposu, boya_degisen, takasa_uygun, kimden, tramer]\n",
       "Index: []\n",
       "\n",
       "[0 rows x 23 columns]"
      ],
      "text/html": [
       "<div>\n",
       "<style scoped>\n",
       "    .dataframe tbody tr th:only-of-type {\n",
       "        vertical-align: middle;\n",
       "    }\n",
       "\n",
       "    .dataframe tbody tr th {\n",
       "        vertical-align: top;\n",
       "    }\n",
       "\n",
       "    .dataframe thead th {\n",
       "        text-align: right;\n",
       "    }\n",
       "</style>\n",
       "<table border=\"1\" class=\"dataframe\">\n",
       "  <thead>\n",
       "    <tr style=\"text-align: right;\">\n",
       "      <th></th>\n",
       "      <th>baslik</th>\n",
       "      <th>konum</th>\n",
       "      <th>fiyat</th>\n",
       "      <th>ilan_tarihi</th>\n",
       "      <th>marka</th>\n",
       "      <th>seri</th>\n",
       "      <th>model</th>\n",
       "      <th>yil</th>\n",
       "      <th>kilometre</th>\n",
       "      <th>vites_tipi</th>\n",
       "      <th>...</th>\n",
       "      <th>motor_hacmi</th>\n",
       "      <th>motor_gucu</th>\n",
       "      <th>cekis</th>\n",
       "      <th>arac_durumu</th>\n",
       "      <th>ortalama_yakit_tuketimi</th>\n",
       "      <th>yakit_deposu</th>\n",
       "      <th>boya_degisen</th>\n",
       "      <th>takasa_uygun</th>\n",
       "      <th>kimden</th>\n",
       "      <th>tramer</th>\n",
       "    </tr>\n",
       "  </thead>\n",
       "  <tbody>\n",
       "  </tbody>\n",
       "</table>\n",
       "<p>0 rows × 23 columns</p>\n",
       "</div>"
      ]
     },
     "execution_count": 8,
     "metadata": {},
     "output_type": "execute_result"
    }
   ],
   "execution_count": 8,
   "source": "cd.head()",
   "id": "4d453d2b3e280e0e"
  }
 ],
 "metadata": {
  "kernelspec": {
   "display_name": "Python 3",
   "language": "python",
   "name": "python3"
  },
  "language_info": {
   "codemirror_mode": {
    "name": "ipython",
    "version": 2
   },
   "file_extension": ".py",
   "mimetype": "text/x-python",
   "name": "python",
   "nbconvert_exporter": "python",
   "pygments_lexer": "ipython2",
   "version": "2.7.6"
  }
 },
 "nbformat": 4,
 "nbformat_minor": 5
}
