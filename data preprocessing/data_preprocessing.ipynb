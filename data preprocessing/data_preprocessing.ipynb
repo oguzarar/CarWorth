{
 "cells": [
  {
   "metadata": {},
   "cell_type": "code",
   "source": [
    "import pandas as pd\n",
    "import numpy as np"
   ],
   "id": "861b00ef8f8d7fbd",
   "outputs": [],
   "execution_count": null
  },
  {
   "metadata": {},
   "cell_type": "code",
   "source": "cd=pd.read_csv(\"cars.csv\")",
   "id": "2c6f526daff40fb9",
   "outputs": [],
   "execution_count": null
  },
  {
   "metadata": {
    "ExecuteTime": {
     "end_time": "2025-08-23T20:21:01.982538Z",
     "start_time": "2025-08-23T20:21:01.489170Z"
    }
   },
   "cell_type": "code",
   "source": "cd.to_csv(\"cars.csv\",index=False)",
   "id": "510186c6aea7ec47",
   "outputs": [],
   "execution_count": 80
  },
  {
   "metadata": {
    "ExecuteTime": {
     "end_time": "2025-08-23T20:20:56.617292Z",
     "start_time": "2025-08-23T20:20:56.557222Z"
    }
   },
   "cell_type": "code",
   "source": "cd.isnull().sum()",
   "id": "6d1d17416fe3b265",
   "outputs": [
    {
     "data": {
      "text/plain": [
       "baslik                     0\n",
       "konum                      0\n",
       "fiyat                      0\n",
       "ilan_tarihi                0\n",
       "marka                      0\n",
       "seri                       0\n",
       "model                      0\n",
       "yil                        0\n",
       "kilometre                  0\n",
       "vites_tipi                 0\n",
       "yakit_tipi                 0\n",
       "kasa_tipi                  0\n",
       "renk                       0\n",
       "motor_hacmi                0\n",
       "motor_gucu                 0\n",
       "cekis                      0\n",
       "arac_durumu                0\n",
       "ortalama_yakit_tuketimi    0\n",
       "yakit_deposu               0\n",
       "boya_degisen               0\n",
       "kimden                     0\n",
       "tramer                     0\n",
       "dtype: int64"
      ]
     },
     "execution_count": 79,
     "metadata": {},
     "output_type": "execute_result"
    }
   ],
   "execution_count": 79
  },
  {
   "metadata": {
    "ExecuteTime": {
     "end_time": "2025-08-23T20:17:07.180113Z",
     "start_time": "2025-08-23T20:17:07.163035Z"
    }
   },
   "cell_type": "code",
   "source": "cd = cd.drop('takasa_uygun', axis=1)",
   "id": "9eff485858f7c680",
   "outputs": [],
   "execution_count": 66
  },
  {
   "metadata": {
    "ExecuteTime": {
     "end_time": "2025-08-23T20:20:40.914598Z",
     "start_time": "2025-08-23T20:20:40.886663Z"
    }
   },
   "cell_type": "code",
   "source": "cd.head()",
   "id": "f94a9873a93e139",
   "outputs": [
    {
     "data": {
      "text/plain": [
       "                                              baslik  konum         fiyat  \\\n",
       "0  2022 MEGANE 1.3 TCE 140 HP JOY COMFORT EDC SER...  Adana  1.169.000 TL   \n",
       "1  2022 SKODA OCTAVİA 1.0 E-TEC ELİTE DSG SERVİS ...  Adana  1.520.000 TL   \n",
       "2             Sahibinden HATASIZ BOYASIZ Peugeot 207  Adana    469.999 TL   \n",
       "3  BEY CLASS'TAN AUDİ A4 QUATRO S-TRONİC 177 HP D...  Adana  1.150.000 TL   \n",
       "5  2021 TOYOTA COROLLA 1.5 DREAM HATASIZ BOYASIZ ...  Adana  1.430.000 TL   \n",
       "\n",
       "       ilan_tarihi    marka     seri                     model   yil  \\\n",
       "0  21 Ağustos 2025  Renault   Megane       1.3 TCe Joy Comfort  2022   \n",
       "1  21 Ağustos 2025    Skoda  Octavia           1.0 e-Tec Elite  2022   \n",
       "2  19 Ağustos 2025  Peugeot      207                1.4 Trendy  2009   \n",
       "3  19 Ağustos 2025     Audi       A4  A4 Sedan 2.0 TDI Quattro  2013   \n",
       "5  19 Ağustos 2025   Toyota  Corolla                 1.5 Dream  2021   \n",
       "\n",
       "    kilometre vites_tipi  ...   renk      motor_hacmi    motor_gucu  \\\n",
       "0  124.000 km   Otomatik  ...  Beyaz  1201 - 1400 cm3  126 - 150 HP   \n",
       "1   99.000 km   Otomatik  ...    Gri  1201 - 1400 cm3  101 - 125 HP   \n",
       "2  207.500 km        Düz  ...    Gri          1360 cc         91 hp   \n",
       "3  219.000 km   Otomatik  ...  Beyaz  1801 - 2000 cm3  176 - 200 HP   \n",
       "5   63.000 km   Otomatik  ...  Beyaz          1490 cc        125 hp   \n",
       "\n",
       "           cekis arac_durumu ortalama_yakit_tuketimi yakit_deposu  \\\n",
       "0    Önden Çekiş   İkinci El                  5,3 lt        50 lt   \n",
       "1    Önden Çekiş   İkinci El                  4,3 lt        48 lt   \n",
       "2    Önden Çekiş   İkinci El                  6,3 lt        50 lt   \n",
       "3  4WD (Sürekli)   İkinci El                  5,1 lt        63 lt   \n",
       "5    Önden Çekiş   İkinci El                  5,8 lt        50 lt   \n",
       "\n",
       "          boya_degisen      kimden   tramer  \n",
       "0            1 değişen   Galeriden  71300.0  \n",
       "1             1 boyalı   Galeriden  56060.0  \n",
       "2       Tamamı orjinal  Sahibinden      0.0  \n",
       "3  1 değişen, 4 boyalı   Galeriden      0.0  \n",
       "5       Tamamı orjinal   Galeriden      0.0  \n",
       "\n",
       "[5 rows x 22 columns]"
      ],
      "text/html": [
       "<div>\n",
       "<style scoped>\n",
       "    .dataframe tbody tr th:only-of-type {\n",
       "        vertical-align: middle;\n",
       "    }\n",
       "\n",
       "    .dataframe tbody tr th {\n",
       "        vertical-align: top;\n",
       "    }\n",
       "\n",
       "    .dataframe thead th {\n",
       "        text-align: right;\n",
       "    }\n",
       "</style>\n",
       "<table border=\"1\" class=\"dataframe\">\n",
       "  <thead>\n",
       "    <tr style=\"text-align: right;\">\n",
       "      <th></th>\n",
       "      <th>baslik</th>\n",
       "      <th>konum</th>\n",
       "      <th>fiyat</th>\n",
       "      <th>ilan_tarihi</th>\n",
       "      <th>marka</th>\n",
       "      <th>seri</th>\n",
       "      <th>model</th>\n",
       "      <th>yil</th>\n",
       "      <th>kilometre</th>\n",
       "      <th>vites_tipi</th>\n",
       "      <th>...</th>\n",
       "      <th>renk</th>\n",
       "      <th>motor_hacmi</th>\n",
       "      <th>motor_gucu</th>\n",
       "      <th>cekis</th>\n",
       "      <th>arac_durumu</th>\n",
       "      <th>ortalama_yakit_tuketimi</th>\n",
       "      <th>yakit_deposu</th>\n",
       "      <th>boya_degisen</th>\n",
       "      <th>kimden</th>\n",
       "      <th>tramer</th>\n",
       "    </tr>\n",
       "  </thead>\n",
       "  <tbody>\n",
       "    <tr>\n",
       "      <th>0</th>\n",
       "      <td>2022 MEGANE 1.3 TCE 140 HP JOY COMFORT EDC SER...</td>\n",
       "      <td>Adana</td>\n",
       "      <td>1.169.000 TL</td>\n",
       "      <td>21 Ağustos 2025</td>\n",
       "      <td>Renault</td>\n",
       "      <td>Megane</td>\n",
       "      <td>1.3 TCe Joy Comfort</td>\n",
       "      <td>2022</td>\n",
       "      <td>124.000 km</td>\n",
       "      <td>Otomatik</td>\n",
       "      <td>...</td>\n",
       "      <td>Beyaz</td>\n",
       "      <td>1201 - 1400 cm3</td>\n",
       "      <td>126 - 150 HP</td>\n",
       "      <td>Önden Çekiş</td>\n",
       "      <td>İkinci El</td>\n",
       "      <td>5,3 lt</td>\n",
       "      <td>50 lt</td>\n",
       "      <td>1 değişen</td>\n",
       "      <td>Galeriden</td>\n",
       "      <td>71300.0</td>\n",
       "    </tr>\n",
       "    <tr>\n",
       "      <th>1</th>\n",
       "      <td>2022 SKODA OCTAVİA 1.0 E-TEC ELİTE DSG SERVİS ...</td>\n",
       "      <td>Adana</td>\n",
       "      <td>1.520.000 TL</td>\n",
       "      <td>21 Ağustos 2025</td>\n",
       "      <td>Skoda</td>\n",
       "      <td>Octavia</td>\n",
       "      <td>1.0 e-Tec Elite</td>\n",
       "      <td>2022</td>\n",
       "      <td>99.000 km</td>\n",
       "      <td>Otomatik</td>\n",
       "      <td>...</td>\n",
       "      <td>Gri</td>\n",
       "      <td>1201 - 1400 cm3</td>\n",
       "      <td>101 - 125 HP</td>\n",
       "      <td>Önden Çekiş</td>\n",
       "      <td>İkinci El</td>\n",
       "      <td>4,3 lt</td>\n",
       "      <td>48 lt</td>\n",
       "      <td>1 boyalı</td>\n",
       "      <td>Galeriden</td>\n",
       "      <td>56060.0</td>\n",
       "    </tr>\n",
       "    <tr>\n",
       "      <th>2</th>\n",
       "      <td>Sahibinden HATASIZ BOYASIZ Peugeot 207</td>\n",
       "      <td>Adana</td>\n",
       "      <td>469.999 TL</td>\n",
       "      <td>19 Ağustos 2025</td>\n",
       "      <td>Peugeot</td>\n",
       "      <td>207</td>\n",
       "      <td>1.4 Trendy</td>\n",
       "      <td>2009</td>\n",
       "      <td>207.500 km</td>\n",
       "      <td>Düz</td>\n",
       "      <td>...</td>\n",
       "      <td>Gri</td>\n",
       "      <td>1360 cc</td>\n",
       "      <td>91 hp</td>\n",
       "      <td>Önden Çekiş</td>\n",
       "      <td>İkinci El</td>\n",
       "      <td>6,3 lt</td>\n",
       "      <td>50 lt</td>\n",
       "      <td>Tamamı orjinal</td>\n",
       "      <td>Sahibinden</td>\n",
       "      <td>0.0</td>\n",
       "    </tr>\n",
       "    <tr>\n",
       "      <th>3</th>\n",
       "      <td>BEY CLASS'TAN AUDİ A4 QUATRO S-TRONİC 177 HP D...</td>\n",
       "      <td>Adana</td>\n",
       "      <td>1.150.000 TL</td>\n",
       "      <td>19 Ağustos 2025</td>\n",
       "      <td>Audi</td>\n",
       "      <td>A4</td>\n",
       "      <td>A4 Sedan 2.0 TDI Quattro</td>\n",
       "      <td>2013</td>\n",
       "      <td>219.000 km</td>\n",
       "      <td>Otomatik</td>\n",
       "      <td>...</td>\n",
       "      <td>Beyaz</td>\n",
       "      <td>1801 - 2000 cm3</td>\n",
       "      <td>176 - 200 HP</td>\n",
       "      <td>4WD (Sürekli)</td>\n",
       "      <td>İkinci El</td>\n",
       "      <td>5,1 lt</td>\n",
       "      <td>63 lt</td>\n",
       "      <td>1 değişen, 4 boyalı</td>\n",
       "      <td>Galeriden</td>\n",
       "      <td>0.0</td>\n",
       "    </tr>\n",
       "    <tr>\n",
       "      <th>5</th>\n",
       "      <td>2021 TOYOTA COROLLA 1.5 DREAM HATASIZ BOYASIZ ...</td>\n",
       "      <td>Adana</td>\n",
       "      <td>1.430.000 TL</td>\n",
       "      <td>19 Ağustos 2025</td>\n",
       "      <td>Toyota</td>\n",
       "      <td>Corolla</td>\n",
       "      <td>1.5 Dream</td>\n",
       "      <td>2021</td>\n",
       "      <td>63.000 km</td>\n",
       "      <td>Otomatik</td>\n",
       "      <td>...</td>\n",
       "      <td>Beyaz</td>\n",
       "      <td>1490 cc</td>\n",
       "      <td>125 hp</td>\n",
       "      <td>Önden Çekiş</td>\n",
       "      <td>İkinci El</td>\n",
       "      <td>5,8 lt</td>\n",
       "      <td>50 lt</td>\n",
       "      <td>Tamamı orjinal</td>\n",
       "      <td>Galeriden</td>\n",
       "      <td>0.0</td>\n",
       "    </tr>\n",
       "  </tbody>\n",
       "</table>\n",
       "<p>5 rows × 22 columns</p>\n",
       "</div>"
      ]
     },
     "execution_count": 78,
     "metadata": {},
     "output_type": "execute_result"
    }
   ],
   "execution_count": 78
  },
  {
   "metadata": {},
   "cell_type": "code",
   "source": [
    "cd['yakit_deposu'] = cd['yakit_deposu'].fillna(\n",
    "    cd.groupby(['seri','model'])['yakit_deposu'].transform('first'))"
   ],
   "id": "f8c94e260a06d802",
   "outputs": [],
   "execution_count": null
  },
  {
   "metadata": {},
   "cell_type": "code",
   "outputs": [],
   "execution_count": null,
   "source": [
    "cd['ortalama_yakit_tuketimi'] = cd['ortalama_yakit_tuketimi'].fillna(\n",
    "    cd.groupby(['seri','model'])['ortalama_yakit_tuketimi'].transform('first'))"
   ],
   "id": "bc82632ca3f6eeae"
  },
  {
   "metadata": {
    "ExecuteTime": {
     "end_time": "2025-08-23T20:17:52.702497Z",
     "start_time": "2025-08-23T20:17:52.679563Z"
    }
   },
   "cell_type": "code",
   "source": "cd=cd[~cd[\"yakit_deposu\"].isnull()]",
   "id": "2d411c2f9d339ba",
   "outputs": [],
   "execution_count": 70
  },
  {
   "metadata": {
    "ExecuteTime": {
     "end_time": "2025-08-23T20:18:04.419723Z",
     "start_time": "2025-08-23T20:18:04.396793Z"
    }
   },
   "cell_type": "code",
   "source": "cd=cd[~cd[\"arac_durumu\"].isnull()]",
   "id": "f762f6c59b234243",
   "outputs": [],
   "execution_count": 71
  }
 ],
 "metadata": {
  "kernelspec": {
   "display_name": "Python 3",
   "language": "python",
   "name": "python3"
  },
  "language_info": {
   "codemirror_mode": {
    "name": "ipython",
    "version": 2
   },
   "file_extension": ".py",
   "mimetype": "text/x-python",
   "name": "python",
   "nbconvert_exporter": "python",
   "pygments_lexer": "ipython2",
   "version": "2.7.6"
  }
 },
 "nbformat": 4,
 "nbformat_minor": 5
}
